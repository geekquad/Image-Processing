{
 "cells": [
  {
   "cell_type": "code",
   "execution_count": 2,
   "metadata": {},
   "outputs": [],
   "source": [
    "#Importing the necessary libraries\n",
    "import cv2\n",
    "import numpy as np"
   ]
  },
  {
   "cell_type": "code",
   "execution_count": 3,
   "metadata": {},
   "outputs": [],
   "source": [
    "img1 = np.zeros((250,500,3),np.uint8)   #Creating a sample Image using BGR scaling\n",
    "img1 = cv2.rectangle(img1,(200,0),(300,100),(255,255,255),-1)  #-1 for filling it with white color\n",
    "#Creating white rectangle inside black image\n",
    "\n",
    "img2 = cv2.imread('lena.jpg')\n",
    "                  \n",
    "cv2.imshow('img1',img1)\n",
    "cv2.imshow('img2',img2)\n",
    "\n",
    "cv2.waitKey(0)\n",
    "cv2.destroyAllWindows()"
   ]
  },
  {
   "cell_type": "code",
   "execution_count": 4,
   "metadata": {},
   "outputs": [],
   "source": [
    "img1 = np.zeros((250,500,3),np.uint8)  #Creating a sample Image using BGR scaling\n",
    "img1 = cv2.rectangle(img1,(200,0),(300,100),(255,255,255),-1)  #-1 for filling it with white color\n",
    "img2 = np.zeros((250,500,3),np.uint8) #Creating a sample Image using BGR scaling\n",
    "img2 = cv2.rectangle(img2,(200,0),(300,100),(0,255,0),-1)  #-1 for filling it with white color\n",
    "\n",
    "\n",
    "             \n",
    "bitAnd = cv2.bitwise_and(img2, img1)  #Image needs to have the same size\n",
    "\n",
    "cv2.imshow('img1',img1)\n",
    "cv2.imshow('img2',img2)\n",
    "cv2.imshow('bitAnd', bitAnd)\n",
    "\n",
    "cv2.waitKey(0)\n",
    "cv2.destroyAllWindows()"
   ]
  },
  {
   "cell_type": "code",
   "execution_count": 5,
   "metadata": {},
   "outputs": [],
   "source": [
    "img1 = np.zeros((250,500,3),np.uint8)\n",
    "img1 = cv2.rectangle(img1,(200,0),(300,100),(255,255,255),-1)  #-1 for filling it with white color\n",
    "img2 = np.zeros((250,500,3),np.uint8)\n",
    "img2 = cv2.rectangle(img2,(200,0),(300,100),(0,255,0),-1)  #-1 for filling it with white color\n",
    "             \n",
    "bitOr = cv2.bitwise_or(img2, img1)  #Image needs to ahve the same size\n",
    "    \n",
    "cv2.imshow('img1',img1)\n",
    "cv2.imshow('img2',img2)\n",
    "cv2.imshow('bitOr', bitOr)\n",
    "\n",
    "cv2.waitKey(0)\n",
    "cv2.destroyAllWindows()"
   ]
  },
  {
   "cell_type": "code",
   "execution_count": 6,
   "metadata": {},
   "outputs": [],
   "source": [
    "img1 = np.zeros((250,500,3),np.uint8)\n",
    "img1 = cv2.rectangle(img1,(200,0),(300,100),(255,255,255),-1)  #-1 for filling it with white color\n",
    "img2 = np.zeros((250,500,3),np.uint8)\n",
    "img2 = cv2.rectangle(img2,(200,0),(300,100),(0,255,0),-1)  #-1 for filling it with white color\n",
    "\n",
    "\n",
    "             \n",
    "bitXor = cv2.bitwise_xor(img2, img1)  #Image needs to ahve the same size\n",
    "    \n",
    "cv2.imshow('img1',img1)\n",
    "cv2.imshow('img2',img2)\n",
    "cv2.imshow('bitXor', bitXor)\n",
    "\n",
    "cv2.waitKey(0)\n",
    "cv2.destroyAllWindows()"
   ]
  },
  {
   "cell_type": "code",
   "execution_count": 6,
   "metadata": {},
   "outputs": [],
   "source": [
    "img1 = np.zeros((250,500,3),np.uint8)\n",
    "img1 = cv2.rectangle(img1,(200,0),(300,100),(255,255,255),-1)  #-1 for filling it with white color\n",
    "img2 = np.zeros((250,500,3),np.uint8)\n",
    "img2 = cv2.rectangle(img2,(200,0),(300,100),(0,255,0),-1)  #-1 for filling it with white color\n",
    "\n",
    "\n",
    "             \n",
    "bitnot = cv2.bitwise_not(img2)  #Image needs to ahve the same size\n",
    "    \n",
    "cv2.imshow('img2',img2)\n",
    "cv2.imshow('bitnot', bitnot)\n",
    "\n",
    "cv2.waitKey(0)\n",
    "cv2.destroyAllWindows()"
   ]
  },
  {
   "cell_type": "code",
   "execution_count": null,
   "metadata": {},
   "outputs": [],
   "source": []
  }
 ],
 "metadata": {
  "kernelspec": {
   "display_name": "Python 3",
   "language": "python",
   "name": "python3"
  },
  "language_info": {
   "codemirror_mode": {
    "name": "ipython",
    "version": 3
   },
   "file_extension": ".py",
   "mimetype": "text/x-python",
   "name": "python",
   "nbconvert_exporter": "python",
   "pygments_lexer": "ipython3",
   "version": "3.7.6"
  }
 },
 "nbformat": 4,
 "nbformat_minor": 4
}
