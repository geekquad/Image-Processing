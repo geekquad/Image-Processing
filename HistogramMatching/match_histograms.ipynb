{
  "nbformat": 4,
  "nbformat_minor": 0,
  "metadata": {
    "colab": {
      "name": "match_histograms.ipynb",
      "provenance": [],
      "collapsed_sections": []
    },
    "kernelspec": {
      "name": "python3",
      "display_name": "Python 3"
    }
  },
  "cells": [
    {
      "cell_type": "markdown",
      "metadata": {
        "id": "Wd0-d3KQk264"
      },
      "source": [
        "# **USAGE**\r\n",
        "\r\n",
        "python match_histograms.py --source empire_state_cloudy.png --reference empire_state_sunset.png\r\n",
        "\r\n",
        "**NOTE**: Keep the images empire_state_cloudy.png and empire_state_sunset.png in the same folder as the code."
      ]
    },
    {
      "cell_type": "code",
      "metadata": {
        "id": "HChWIyUmHI1n"
      },
      "source": [
        "# import the necessary packages\r\n",
        "from skimage import exposure\r\n",
        "import matplotlib.pyplot as plt\r\n",
        "import argparse\r\n",
        "import cv2"
      ],
      "execution_count": null,
      "outputs": []
    },
    {
      "cell_type": "code",
      "metadata": {
        "id": "WjubKxbiHhsH"
      },
      "source": [
        "# construct the argument parser and parse the arguments\r\n",
        "ap = argparse.ArgumentParser()\r\n",
        "ap.add_argument(\"-s\", \"--source\", required=True,\r\n",
        "                help=\"path to the input source image\")\r\n",
        "ap.add_argument(\"-r\", \"--reference\", required=True,\r\n",
        "                help=\"path to the input reference image\")\r\n",
        "args = vars(ap.parse_args())"
      ],
      "execution_count": null,
      "outputs": []
    },
    {
      "cell_type": "code",
      "metadata": {
        "id": "QWwSq2tklH6G"
      },
      "source": [
        "# load the source and reference images\r\n",
        "print(\"[INFO] loading source and reference images...\")\r\n",
        "src = cv2.imread(args[\"source\"])\r\n",
        "ref = cv2.imread(args[\"reference\"])"
      ],
      "execution_count": null,
      "outputs": []
    },
    {
      "cell_type": "code",
      "metadata": {
        "id": "gBhNWJGVlKou"
      },
      "source": [
        "# determine if we are performing multichannel histogram matching\r\n",
        "# and then perform histogram matching itself\r\n",
        "print(\"[INFO] performing histogram matching...\")\r\n",
        "multi = True if src.shape[-1] > 1 else False\r\n",
        "matched = exposure.match_histograms(src, ref, multichannel=multi)"
      ],
      "execution_count": null,
      "outputs": []
    },
    {
      "cell_type": "code",
      "metadata": {
        "id": "XdtV4qIdlLFO"
      },
      "source": [
        "# show the output images\r\n",
        "cv2.imshow(\"Source\", src)\r\n",
        "cv2.imshow(\"Reference\", ref)\r\n",
        "cv2.imshow(\"Matched\", matched)\r\n",
        "cv2.waitKey(0)"
      ],
      "execution_count": null,
      "outputs": []
    },
    {
      "cell_type": "code",
      "metadata": {
        "id": "V0HP6bOElLL2"
      },
      "source": [
        "# construct a figure to display the histogram plots for each channel\r\n",
        "# before and after histogram matching was applied\r\n",
        "(fig, axs) = plt.subplots(nrows=3, ncols=3, figsize=(8, 8))"
      ],
      "execution_count": null,
      "outputs": []
    },
    {
      "cell_type": "code",
      "metadata": {
        "id": "Wrvyz7_PlSp_"
      },
      "source": [
        "# loop over our source image, reference image, and output matched\r\n",
        "# image\r\n",
        "for (i, image) in enumerate((src, ref, matched)):\r\n",
        "    # convert the image from BGR to RGB channel ordering\r\n",
        "    image = cv2.cvtColor(image, cv2.COLOR_BGR2RGB)\r\n",
        "\r\n",
        "    # loop over the names of the channels in RGB order\r\n",
        "    for (j, color) in enumerate((\"red\", \"green\", \"blue\")):\r\n",
        "        # compute a histogram for the current channel and plot it\r\n",
        "        (hist, bins) = exposure.histogram(image[..., j],\r\n",
        "                                          source_range=\"dtype\")\r\n",
        "        axs[j, i].plot(bins, hist / hist.max())\r\n",
        "\r\n",
        "        # compute the cumulative distribution function for the\r\n",
        "        # current channel and plot it\r\n",
        "        (cdf, bins) = exposure.cumulative_distribution(image[..., j])\r\n",
        "        axs[j, i].plot(bins, cdf)\r\n",
        "\r\n",
        "        # set the y-axis label of the current plot to be the name\r\n",
        "        # of the current color channel\r\n",
        "        axs[j, 0].set_ylabel(color)"
      ],
      "execution_count": null,
      "outputs": []
    },
    {
      "cell_type": "code",
      "metadata": {
        "id": "dWtwnEzSlVrH"
      },
      "source": [
        "# set the axes titles\r\n",
        "axs[0, 0].set_title(\"Source\")\r\n",
        "axs[0, 1].set_title(\"Reference\")\r\n",
        "axs[0, 2].set_title(\"Matched\")"
      ],
      "execution_count": null,
      "outputs": []
    },
    {
      "cell_type": "code",
      "metadata": {
        "id": "T7xruytDlZE3"
      },
      "source": [
        "# display the output plots\r\n",
        "plt.tight_layout()\r\n",
        "plt.show()"
      ],
      "execution_count": null,
      "outputs": []
    }
  ]
}