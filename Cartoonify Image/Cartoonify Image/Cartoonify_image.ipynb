{
  "nbformat": 4,
  "nbformat_minor": 0,
  "metadata": {
    "colab": {
      "name": "Cartoonify i.ipynb",
      "provenance": []
    },
    "kernelspec": {
      "name": "python3",
      "display_name": "Python 3"
    },
    "language_info": {
      "name": "python"
    }
  },
  "cells": [
    {
      "cell_type": "code",
      "metadata": {
        "id": "vikfrb9zBitc"
      },
      "source": [
        "import cv2                           #importing cv library\n",
        "import numpy as np                   #importing numpy library as np                      \n",
        "\n",
        "path = input(\"Enter the path of image\\n\") \n",
        "img = cv2.imread(path)                            #to read an image\n",
        "img = cv2.resize(img,(540,540))\n",
        "gray = cv2.cvtColor(img, cv2.COLOR_BGR2GRAY)      #cv2.COLOR_BGR2GRAY is used for BGR Gray conversion.\n",
        "gray = cv2.medianBlur(gray, 5)                    #used for smoothening the image\n",
        "cv2.imshow(\"Gray\", gray)                          #used to show the image after BGR to Gray Conversion\n",
        "edges = cv2.adaptiveThreshold(gray,255,cv2.ADAPTIVE_THRESH_MEAN_C,cv2.THRESH_BINARY,9,9)   #used when image has different lighting conditions in different areas. It calculate the threshold for a small regions of the image. \n",
        "\n",
        "#cartoonize\n",
        "color = cv2.bilateralFilter(img, 9, 250, 250)                 #used for smoothening images and reducing noise\n",
        "cv2.imshow(\"filtered\", color)                                 #used for showing the image after applying filters\n",
        "cartoon = cv2.bitwise_and(color, color, mask = edges)         #applying bitwise operation 'and' which invert the color \n",
        "\n",
        "\n",
        "cv2.imshow(\"Original\", img)                #used to show the image.\n",
        "cv2.imshow(\"Cartoon\", cartoon)             #used to show the cartoonified image\n",
        "\n",
        "\n",
        "cv2.waitKey(0)            #it is a keyboard binding function              \n",
        "cv2.destroyAllWindows()   #destroys all the windows                                                                                       \n",
        "                                                                                                                                      "
      ],
      "execution_count": null,
      "outputs": []
    }
  ]
}