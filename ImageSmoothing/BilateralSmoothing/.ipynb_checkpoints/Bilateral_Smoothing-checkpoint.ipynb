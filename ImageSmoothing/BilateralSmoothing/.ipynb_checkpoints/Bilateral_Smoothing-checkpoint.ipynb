{
 "cells": [
  {
   "cell_type": "code",
   "execution_count": 12,
   "metadata": {},
   "outputs": [],
   "source": [
    "import cv2\n",
    "from skimage import io\n",
    "\n",
    "img=(cv2.imread('images/Gaussian_noise.jpg',0))\n",
    "\n",
    "img_bilateral=cv2.bilateralFilter(img, 5, 30, 80,borderType=cv2.BORDER_CONSTANT)\n",
    "# cv2.bilateralFilter(image,d,sigma_Color,sigma_Space,borderType)\n",
    "\n",
    "cv2.imshow('Source_Picture', img)\n",
    "cv2.imshow('Final_Picture', img_bilateral) # Display img with bilaeral filter\n",
    "\n",
    "\n",
    "cv2.waitKey(0)        # Wait for a key press to\n",
    "cv2.destroyAllWindows() # close the img window."
   ]
  },
  {
   "cell_type": "code",
   "execution_count": null,
   "metadata": {},
   "outputs": [],
   "source": []
  }
 ],
 "metadata": {
  "kernelspec": {
   "display_name": "Python 3",
   "language": "python",
   "name": "python3"
  },
  "language_info": {
   "codemirror_mode": {
    "name": "ipython",
    "version": 3
   },
   "file_extension": ".py",
   "mimetype": "text/x-python",
   "name": "python",
   "nbconvert_exporter": "python",
   "pygments_lexer": "ipython3",
   "version": "3.8.3"
  }
 },
 "nbformat": 4,
 "nbformat_minor": 4
}
