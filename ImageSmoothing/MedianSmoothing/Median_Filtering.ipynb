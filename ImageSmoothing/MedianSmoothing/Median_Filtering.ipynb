{
 "cells": [
  {
   "cell_type": "markdown",
   "metadata": {},
   "source": [
    "# Median Smoothing without using pre-defined function"
   ]
  },
  {
   "cell_type": "code",
   "execution_count": 10,
   "metadata": {},
   "outputs": [],
   "source": [
    "from cv2 import * #Import functions from OpenCV\n",
    "import cv2\n",
    "import numpy as np\n",
    "from skimage import io\n",
    "\n",
    "img_input=io.imread('images/Salt&pepper_noise.jpg',as_gray=True)\n",
    "img=io.imread('images/Salt&pepper_noise.jpg',as_gray=True)\n",
    "\n",
    "                     \n",
    "# print(img)\n",
    "final = img[:]\n",
    "for y in range(len(img)):\n",
    "    for x in range(len(img[0])):\n",
    "        final[y,x]=img[y,x]\n",
    "\n",
    "members=[img[0,0]]*9\n",
    "for y in range(1,img.shape[0]-1):\n",
    "    for x in range(1,img.shape[1]-1):\n",
    "        members[0] = img[y-1,x-1]\n",
    "        members[1] = img[y,x-1]\n",
    "        members[2] = img[y+1,x-1]\n",
    "        members[3] = img[y-1,x]\n",
    "        members[4] = img[y,x]\n",
    "        members[5] = img[y+1,x]\n",
    "        members[6] = img[y-1,x+1]\n",
    "        members[7] = img[y,x+1]\n",
    "        members[8] = img[y+1,x+1]\n",
    "\n",
    "        members.sort()\n",
    "        final[y,x]=members[4]\n",
    "\n",
    "   \n",
    "cv2.imshow('Source_Picture', img_input) #Show the image\n",
    "cv2.imshow('Final_Picture', final) #Show the image\n",
    "\n",
    "cv2.waitKey(0)\n",
    "cv2.destroyAllWindows()\n"
   ]
  },
  {
   "cell_type": "markdown",
   "metadata": {},
   "source": [
    "### Original Image\n",
    "<img src=\"images/med1.JPG\" width=\"700px\" />\n",
    "\n",
    "### Filtered Image\n",
    "<img src=\"images/med1_final.JPG\" width=\"700px\" />"
   ]
  },
  {
   "cell_type": "markdown",
   "metadata": {},
   "source": [
    "# Median Smoothing using pre-defined function"
   ]
  },
  {
   "cell_type": "code",
   "execution_count": 8,
   "metadata": {},
   "outputs": [],
   "source": [
    "import cv2\n",
    "from skimage import io\n",
    "\n",
    "img=io.imread('images/Salt&pepper_noise.jpg',as_gray=True)\n",
    "img_median = cv2.medianBlur(img, 5) # Add median filter to image with kernel size 5\n",
    "\n",
    "cv2.imshow('Source_Picture', img)\n",
    "cv2.imshow('Final_Picture', img_median) # Display img with median filter\n",
    "\n",
    "\n",
    "cv2.waitKey(0)        # Wait for a key press to\n",
    "cv2.destroyAllWindows() # close the img window."
   ]
  },
  {
   "cell_type": "markdown",
   "metadata": {},
   "source": [
    "### Original Image\n",
    "<img src=\"images/med2.JPG\" width=\"700px\" />\n",
    "\n",
    "### Filtered Image\n",
    "<img src=\"images/med2_final.JPG\" width=\"700px\" />"
   ]
  },
  {
   "cell_type": "markdown",
   "metadata": {},
   "source": [
    "# Median Smoothing using pre-defined function with \"0\" as padding"
   ]
  },
  {
   "cell_type": "code",
   "execution_count": 20,
   "metadata": {},
   "outputs": [],
   "source": [
    "import cv2\n",
    "from skimage import io\n",
    "\n",
    "img=io.imread('images/Salt&pepper_noise.jpg',as_gray=True)\n",
    "# print(img)\n",
    "\n",
    "imagenBorder = cv2.copyMakeBorder(img,1,1,1,1,cv2.BORDER_CONSTANT) #adding 0's padding to the image\n",
    "# print(imagenBorder)\n",
    "\n",
    "img_median = cv2.medianBlur(imagenBorder, 5) # Add median filter to image with kernel size 5\n",
    "\n",
    "cv2.imshow('Source_Picture', img)\n",
    "cv2.imshow('Final_Picture', img_median) # Display img with median filter\n",
    "\n",
    "\n",
    "cv2.waitKey(0)        # Wait for a key press to\n",
    "cv2.destroyAllWindows() # close the img window."
   ]
  },
  {
   "cell_type": "markdown",
   "metadata": {},
   "source": [
    "### Original Image\n",
    "<img src=\"images/med2.JPG\" width=\"700px\" />\n",
    "\n",
    "### Filtered Image\n",
    "<img src=\"images/med0_final.JPG\" width=\"700px\" />"
   ]
  },
  {
   "cell_type": "markdown",
   "metadata": {},
   "source": [
    "# Median Smoothing using pre-defined function with the exterior elements as padding"
   ]
  },
  {
   "cell_type": "code",
   "execution_count": 21,
   "metadata": {},
   "outputs": [],
   "source": [
    "import cv2\n",
    "from skimage import io\n",
    "\n",
    "img=io.imread('images/Salt&pepper_noise.jpg',as_gray=True)\n",
    "# print(img)\n",
    "imagenBorder = cv2.copyMakeBorder(img,1,1,1,1,cv2.BORDER_REFLECT) #adding padding of the exterior elements of the image array\n",
    "\n",
    "# print(imagenBorder)\n",
    "\n",
    "img_median = cv2.medianBlur(imagenBorder, 5) # Add median filter to image with kernel size 5\n",
    "\n",
    "cv2.imshow('Source_Picture', img)\n",
    "cv2.imshow('Final_Picture', img_median) # Display img with median filter\n",
    "\n",
    "\n",
    "cv2.waitKey(0)        # Wait for a key press to\n",
    "cv2.destroyAllWindows() # close the img window."
   ]
  },
  {
   "cell_type": "markdown",
   "metadata": {},
   "source": [
    "### Original Image\n",
    "<img src=\"images/med2.JPG\" width=\"700px\" />\n",
    "\n",
    "### Filtered Image\n",
    "<img src=\"images/med_ex_final.JPG\" width=\"700px\" />"
   ]
  },
  {
   "cell_type": "code",
   "execution_count": null,
   "metadata": {},
   "outputs": [],
   "source": []
  }
 ],
 "metadata": {
  "kernelspec": {
   "display_name": "Python 3",
   "language": "python",
   "name": "python3"
  },
  "language_info": {
   "codemirror_mode": {
    "name": "ipython",
    "version": 3
   },
   "file_extension": ".py",
   "mimetype": "text/x-python",
   "name": "python",
   "nbconvert_exporter": "python",
   "pygments_lexer": "ipython3",
   "version": "3.8.3"
  }
 },
 "nbformat": 4,
 "nbformat_minor": 4
}