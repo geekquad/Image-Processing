{
  "nbformat": 4,
  "nbformat_minor": 0,
  "metadata": {
    "colab": {
      "name": "Face-Swap",
      "provenance": []
    },
    "kernelspec": {
      "name": "python3",
      "display_name": "Python 3"
    },
    "language_info": {
      "name": "python"
    }
  },
  "cells": [
    {
      "cell_type": "code",
      "metadata": {
        "id": "hi0wHbV63eb9"
      },
      "source": [
        "import sys\n",
        "import getopt\n",
        "import cv2\n",
        "from components.landmark_detection import detect_landmarks\n",
        "from components.convex_hull import find_convex_hull\n",
        "from components.delaunay_triangulation import find_delauney_triangulation\n",
        "from components.affine_transformation import apply_affine_transformation\n",
        "from components.clone_mask import merge_mask_with_image\n",
        "EXPECTED_NUM_IN = 2\n",
        "def exit_error():\n",
        "    print('Error: unexpected arguments')\n",
        "    print('face_swap.py -i <path/to/inputFile1> -i <path/to/inputFile2>')\n",
        "    sys.exit()\n",
        "def main(argv):\n",
        "    in_imgs = []\n",
        "    try:\n",
        "        opts, args = getopt.getopt(argv, \"hi:\", [\"ifile=\"])\n",
        "    except getopt.GetoptError:\n",
        "        exit_error()\n",
        "    for opt, arg in opts:\n",
        "        if opt in (\"-i\", \"--ifile\"):\n",
        "            in_imgs.append(arg)\n",
        "        else:\n",
        "            exit_error()\n",
        "    if len(in_imgs) != EXPECTED_NUM_IN:\n",
        "        exit_error()\n",
        "    print('Input files', in_imgs)\n",
        "    img_1 = cv2.imread(in_imgs[0])\n",
        "    img_2 = cv2.imread(in_imgs[1])\n",
        "    landmarks_1 = detect_landmarks(img_1)[0]\n",
        "    landmarks_2 = detect_landmarks(img_2)[0]\n",
        "    hull_1, hull_2 = find_convex_hull(landmarks_1, landmarks_2, img_1, img_2)\n",
        "    delauney_1 = find_delauney_triangulation(img_1, hull_1)\n",
        "    delauney_2 = find_delauney_triangulation(img_2, hull_2)\n",
        "    img_1_face_to_img_2 = apply_affine_transformation(delauney_1, hull_1, hull_2, img_1, img_2)\n",
        "    img_2_face_to_img_1 = apply_affine_transformation(delauney_2, hull_2, hull_1, img_2, img_1)\n",
        "    swap_1 = merge_mask_with_image(hull_2, img_1_face_to_img_2, img_2)\n",
        "    swap_2 = merge_mask_with_image(hull_1, img_2_face_to_img_1, img_1)\n",
        "    cv2.imshow(\"Face Swap 1: \", swap_1)\n",
        "    cv2.imshow(\"Face Swap 2: \", swap_2)\n",
        "    cv2.waitKey(0)\n",
        "    cv2.destroyAllWindows()\n",
        "if __name__ == \"__main__\":\n",
        "    main(sys.argv[1:])"
      ],
      "execution_count": null,
      "outputs": []
    }
  ]
}